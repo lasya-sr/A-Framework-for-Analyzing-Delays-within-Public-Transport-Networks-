{
 "cells": [
  {
   "cell_type": "code",
   "execution_count": 3,
   "metadata": {},
   "outputs": [
    {
     "name": "stdout",
     "output_type": "stream",
     "text": [
      "The autoreload extension is already loaded. To reload it, use:\n",
      "  %reload_ext autoreload\n"
     ]
    }
   ],
   "source": [
    "%load_ext autoreload\n",
    "%autoreload 2"
   ]
  },
  {
   "cell_type": "code",
   "execution_count": 4,
   "metadata": {},
   "outputs": [],
   "source": [
    "import pandas as pd\n",
    "import matplotlib.pyplot as plt #if using matplotlib\n",
    "import plotly.express as px #if using plotly\n",
    "import geopandas as gpd\n",
    "import pyproj\n",
    "from util import *\n",
    "from pathlib import Path\n",
    "\n",
    "\n",
    "shapefile = gpd.read_file(\"data/gda2020/GDA2020/qld_localities.shp\")\n",
    "shapefile.to_crs(pyproj.CRS.from_epsg(4326), inplace=True)\n",
    "\n",
    "\n",
    "# shapefile.to_file(\"data/gda2020/GDA2020/qld_localities.json\", driver = \"GeoJSON\")\n",
    "with open(\"data/gda2020/GDA2020/qld_localities.json\") as geofile:\n",
    "    j_file = json.load(geofile)"
   ]
  },
  {
   "cell_type": "code",
   "execution_count": 5,
   "metadata": {},
   "outputs": [
    {
     "name": "stdout",
     "output_type": "stream",
     "text": [
      "<class 'geopandas.geodataframe.GeoDataFrame'>\n",
      "Index: 633 entries, 19 to 3303\n",
      "Data columns (total 38 columns):\n",
      " #   Column            Non-Null Count  Dtype   \n",
      "---  ------            --------------  -----   \n",
      " 0   LC_PLY_PID        633 non-null    object  \n",
      " 1   LOC_PID           633 non-null    object  \n",
      " 2   DT_CREATE         633 non-null    object  \n",
      " 3   LOC_NAME          633 non-null    object  \n",
      " 4   LOC_CLASS         633 non-null    object  \n",
      " 5   STATE             633 non-null    object  \n",
      " 6   geometry          633 non-null    geometry\n",
      " 7   index_right       633 non-null    int64   \n",
      " 8   rain_dbz          633 non-null    int64   \n",
      " 9   timestamp_radar   633 non-null    int64   \n",
      " 10  route_id_x        633 non-null    object  \n",
      " 11  trip_id           633 non-null    object  \n",
      " 12  lat               633 non-null    float64 \n",
      " 13  lon               633 non-null    float64 \n",
      " 14  vehicle_label     633 non-null    object  \n",
      " 15  vehicle_id        633 non-null    object  \n",
      " 16  stop_id           633 non-null    int64   \n",
      " 17  current_status    633 non-null    int64   \n",
      " 18  timestamp         633 non-null    int64   \n",
      " 19  route_short_name  633 non-null    object  \n",
      " 20  route_long_name   633 non-null    object  \n",
      " 21  route_desc        0 non-null      float64 \n",
      " 22  route_type        633 non-null    object  \n",
      " 23  route_url         633 non-null    object  \n",
      " 24  route_color       633 non-null    object  \n",
      " 25  route_text_color  633 non-null    object  \n",
      " 26  stop_code         633 non-null    float64 \n",
      " 27  stop_name         633 non-null    object  \n",
      " 28  stop_desc         0 non-null      float64 \n",
      " 29  stop_lat          633 non-null    float64 \n",
      " 30  stop_lon          633 non-null    float64 \n",
      " 31  zone_id           631 non-null    object  \n",
      " 32  stop_url          622 non-null    object  \n",
      " 33  location_type     633 non-null    int64   \n",
      " 34  parent_station    303 non-null    object  \n",
      " 35  platform_code     266 non-null    object  \n",
      " 36  route_id_y        633 non-null    object  \n",
      " 37  upcoming_stops    633 non-null    object  \n",
      "dtypes: float64(7), geometry(1), int64(7), object(23)\n",
      "memory usage: 192.9+ KB\n"
     ]
    }
   ],
   "source": [
    "paths_translink = list(Path(\"output/translink\").iterdir())\n",
    "\n",
    "\n",
    "df_combine = csv_to_df(paths_translink[0])\n",
    "\n",
    "coords = gpd.GeoDataFrame(\n",
    "    df_combine, geometry=gpd.points_from_xy(df_combine.lon, df_combine.lat), crs=\"EPSG:4326\"\n",
    ")\n",
    "\n",
    "\n",
    "lss = gpd.sjoin(shapefile, coords, how=\"inner\", predicate='contains')\n",
    "\n",
    "lss.info()\n"
   ]
  },
  {
   "cell_type": "code",
   "execution_count": 6,
   "metadata": {},
   "outputs": [
    {
     "name": "stdout",
     "output_type": "stream",
     "text": [
      "<class 'geopandas.geodataframe.GeoDataFrame'>\n",
      "Index: 633 entries, 19 to 3303\n",
      "Data columns (total 38 columns):\n",
      " #   Column            Non-Null Count  Dtype   \n",
      "---  ------            --------------  -----   \n",
      " 0   LC_PLY_PID        633 non-null    object  \n",
      " 1   LOC_PID           633 non-null    object  \n",
      " 2   DT_CREATE         633 non-null    object  \n",
      " 3   LOC_NAME          633 non-null    object  \n",
      " 4   LOC_CLASS         633 non-null    object  \n",
      " 5   STATE             633 non-null    object  \n",
      " 6   geometry          633 non-null    geometry\n",
      " 7   index_right       633 non-null    int64   \n",
      " 8   rain_dbz          633 non-null    int64   \n",
      " 9   timestamp_radar   633 non-null    int64   \n",
      " 10  route_id_x        633 non-null    object  \n",
      " 11  trip_id           633 non-null    object  \n",
      " 12  lat               633 non-null    float64 \n",
      " 13  lon               633 non-null    float64 \n",
      " 14  vehicle_label     633 non-null    object  \n",
      " 15  vehicle_id        633 non-null    object  \n",
      " 16  stop_id           633 non-null    int64   \n",
      " 17  current_status    633 non-null    int64   \n",
      " 18  timestamp         633 non-null    int64   \n",
      " 19  route_short_name  633 non-null    object  \n",
      " 20  route_long_name   633 non-null    object  \n",
      " 21  route_desc        0 non-null      float64 \n",
      " 22  route_type        633 non-null    object  \n",
      " 23  route_url         633 non-null    object  \n",
      " 24  route_color       633 non-null    object  \n",
      " 25  route_text_color  633 non-null    object  \n",
      " 26  stop_code         633 non-null    float64 \n",
      " 27  stop_name         633 non-null    object  \n",
      " 28  stop_desc         0 non-null      float64 \n",
      " 29  stop_lat          633 non-null    float64 \n",
      " 30  stop_lon          633 non-null    float64 \n",
      " 31  zone_id           631 non-null    object  \n",
      " 32  stop_url          622 non-null    object  \n",
      " 33  location_type     633 non-null    int64   \n",
      " 34  parent_station    303 non-null    object  \n",
      " 35  platform_code     266 non-null    object  \n",
      " 36  route_id_y        633 non-null    object  \n",
      " 37  upcoming_stops    633 non-null    object  \n",
      "dtypes: float64(7), geometry(1), int64(7), object(23)\n",
      "memory usage: 192.9+ KB\n"
     ]
    }
   ],
   "source": [
    "lss.info()"
   ]
  },
  {
   "cell_type": "code",
   "execution_count": 7,
   "metadata": {},
   "outputs": [],
   "source": [
    "from util import *\n",
    "\n",
    "s = get_choropleth(lss)"
   ]
  },
  {
   "cell_type": "code",
   "execution_count": 8,
   "metadata": {},
   "outputs": [
    {
     "data": {
      "text/html": [
       "<div>\n",
       "<style scoped>\n",
       "    .dataframe tbody tr th:only-of-type {\n",
       "        vertical-align: middle;\n",
       "    }\n",
       "\n",
       "    .dataframe tbody tr th {\n",
       "        vertical-align: top;\n",
       "    }\n",
       "\n",
       "    .dataframe thead th {\n",
       "        text-align: right;\n",
       "    }\n",
       "</style>\n",
       "<table border=\"1\" class=\"dataframe\">\n",
       "  <thead>\n",
       "    <tr style=\"text-align: right;\">\n",
       "      <th></th>\n",
       "      <th>LOC_NAME</th>\n",
       "      <th>geometry</th>\n",
       "      <th>upcoming_stops</th>\n",
       "    </tr>\n",
       "  </thead>\n",
       "  <tbody>\n",
       "    <tr>\n",
       "      <th>0</th>\n",
       "      <td>Albany Creek</td>\n",
       "      <td>POLYGON ((152.98037 -27.37263, 152.98006 -27.3...</td>\n",
       "      <td>234.00</td>\n",
       "    </tr>\n",
       "    <tr>\n",
       "      <th>1</th>\n",
       "      <td>Albion</td>\n",
       "      <td>POLYGON ((153.04217 -27.44194, 153.04209 -27.4...</td>\n",
       "      <td>-19.00</td>\n",
       "    </tr>\n",
       "    <tr>\n",
       "      <th>2</th>\n",
       "      <td>Alderley</td>\n",
       "      <td>POLYGON ((152.99831 -27.43761, 152.99822 -27.4...</td>\n",
       "      <td>228.00</td>\n",
       "    </tr>\n",
       "    <tr>\n",
       "      <th>3</th>\n",
       "      <td>Alexandra Headland</td>\n",
       "      <td>POLYGON ((153.11271 -26.67612, 153.11235 -26.6...</td>\n",
       "      <td>174.00</td>\n",
       "    </tr>\n",
       "    <tr>\n",
       "      <th>4</th>\n",
       "      <td>Algester</td>\n",
       "      <td>POLYGON ((153.03461 -27.62867, 153.03396 -27.6...</td>\n",
       "      <td>56.00</td>\n",
       "    </tr>\n",
       "    <tr>\n",
       "      <th>...</th>\n",
       "      <td>...</td>\n",
       "      <td>...</td>\n",
       "      <td>...</td>\n",
       "    </tr>\n",
       "    <tr>\n",
       "      <th>230</th>\n",
       "      <td>Woorim</td>\n",
       "      <td>POLYGON ((153.17836 -27.09950, 153.17497 -27.0...</td>\n",
       "      <td>-3.00</td>\n",
       "    </tr>\n",
       "    <tr>\n",
       "      <th>231</th>\n",
       "      <td>Wynnum</td>\n",
       "      <td>POLYGON ((153.17521 -27.45615, 153.17506 -27.4...</td>\n",
       "      <td>23.00</td>\n",
       "    </tr>\n",
       "    <tr>\n",
       "      <th>232</th>\n",
       "      <td>Yamanto</td>\n",
       "      <td>POLYGON ((152.74797 -27.66508, 152.74717 -27.6...</td>\n",
       "      <td>-101.00</td>\n",
       "    </tr>\n",
       "    <tr>\n",
       "      <th>233</th>\n",
       "      <td>Yandina</td>\n",
       "      <td>POLYGON ((152.96626 -26.58462, 152.96553 -26.5...</td>\n",
       "      <td>0.00</td>\n",
       "    </tr>\n",
       "    <tr>\n",
       "      <th>234</th>\n",
       "      <td>Zillmere</td>\n",
       "      <td>POLYGON ((153.04349 -27.36763, 153.04319 -27.3...</td>\n",
       "      <td>129.25</td>\n",
       "    </tr>\n",
       "  </tbody>\n",
       "</table>\n",
       "<p>235 rows × 3 columns</p>\n",
       "</div>"
      ],
      "text/plain": [
       "               LOC_NAME                                           geometry  \\\n",
       "0          Albany Creek  POLYGON ((152.98037 -27.37263, 152.98006 -27.3...   \n",
       "1                Albion  POLYGON ((153.04217 -27.44194, 153.04209 -27.4...   \n",
       "2              Alderley  POLYGON ((152.99831 -27.43761, 152.99822 -27.4...   \n",
       "3    Alexandra Headland  POLYGON ((153.11271 -26.67612, 153.11235 -26.6...   \n",
       "4              Algester  POLYGON ((153.03461 -27.62867, 153.03396 -27.6...   \n",
       "..                  ...                                                ...   \n",
       "230              Woorim  POLYGON ((153.17836 -27.09950, 153.17497 -27.0...   \n",
       "231              Wynnum  POLYGON ((153.17521 -27.45615, 153.17506 -27.4...   \n",
       "232             Yamanto  POLYGON ((152.74797 -27.66508, 152.74717 -27.6...   \n",
       "233             Yandina  POLYGON ((152.96626 -26.58462, 152.96553 -26.5...   \n",
       "234            Zillmere  POLYGON ((153.04349 -27.36763, 153.04319 -27.3...   \n",
       "\n",
       "     upcoming_stops  \n",
       "0            234.00  \n",
       "1            -19.00  \n",
       "2            228.00  \n",
       "3            174.00  \n",
       "4             56.00  \n",
       "..              ...  \n",
       "230           -3.00  \n",
       "231           23.00  \n",
       "232         -101.00  \n",
       "233            0.00  \n",
       "234          129.25  \n",
       "\n",
       "[235 rows x 3 columns]"
      ]
     },
     "execution_count": 8,
     "metadata": {},
     "output_type": "execute_result"
    }
   ],
   "source": [
    "s"
   ]
  },
  {
   "cell_type": "code",
   "execution_count": 12,
   "metadata": {},
   "outputs": [
    {
     "data": {
      "text/plain": [
       "<Axes: >"
      ]
     },
     "execution_count": 12,
     "metadata": {},
     "output_type": "execute_result"
    },
    {
     "data": {
      "image/png": "[encoded data removed]",
      "text/plain": [
       "<Figure size 640x480 with 1 Axes>"
      ]
     },
     "metadata": {},
     "output_type": "display_data"
    }
   ],
   "source": [
    "fig = gpd.GeoDataFrame(s).plot(column=\"upcoming_stops\")\n"
   ]
  }
 ],
 "metadata": {
  "kernelspec": {
   "display_name": "base",
   "language": "python",
   "name": "python3"
  },
  "language_info": {
   "codemirror_mode": {
    "name": "ipython",
    "version": 3
   },
   "file_extension": ".py",
   "mimetype": "text/x-python",
   "name": "python",
   "nbconvert_exporter": "python",
   "pygments_lexer": "ipython3",
   "version": "3.11.5"
  }
 },
 "nbformat": 4,
 "nbformat_minor": 2
}
